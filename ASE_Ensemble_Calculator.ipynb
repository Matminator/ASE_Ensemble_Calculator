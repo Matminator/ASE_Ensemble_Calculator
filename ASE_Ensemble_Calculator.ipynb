{
 "cells": [
  {
   "cell_type": "code",
   "execution_count": 2,
   "metadata": {},
   "outputs": [
    {
     "name": "stderr",
     "output_type": "stream",
     "text": [
      "/tmp/ipykernel_23667/1143810242.py:22: UserWarning: 2 out of 2 elements of the provided calculators-list are not ASE calculators. This may result in the failure of this calculator.\n",
      "  warnings.warn(\n"
     ]
    }
   ],
   "source": [
    "import numpy as np\n",
    "from ase.calculators.calculator import Calculator\n",
    "import warnings\n",
    "\n",
    "class  Ensemble_Calculator(Calculator):\n",
    "    implemented_properties = ['energy', 'forces']\n",
    "\n",
    "    def __init__(self, calculators: list):\n",
    "\n",
    "        num_models = len(calculators)\n",
    "\n",
    "        # Testing input:\n",
    "        if num_models == 0:\n",
    "            raise ValueError('Provided list of calculators is empty (length is 0)')\n",
    "        \n",
    "        # Testing type of list\n",
    "        nun_ASE_calcs = 0\n",
    "        for calc in calculators:\n",
    "            if not isinstance(calc, Calculator):\n",
    "                nun_ASE_calcs += 1\n",
    "        if nun_ASE_calcs > 0:\n",
    "            warnings.warn(\n",
    "                f\"{nun_ASE_calcs} out of {len(calculators)} elements of the provided calculators-list \"\n",
    "                \"are not ASE calculators. This may result in the failure of this calculator.\",\n",
    "                UserWarning\n",
    "            )\n",
    "\n",
    "        self.calculators = calculators\n",
    "        self.potential_energy_variance = None\n",
    "        self.forces_variances = None\n",
    "        self.num_models = num_models\n",
    "\n",
    "    def calculate(self, atoms, properties, system_changes):\n",
    "        # Check which properties need to be calculated\n",
    "        energy = 0.0\n",
    "        forces = None\n",
    "\n",
    "        if 'energy' in properties:\n",
    "            # Perform energy calculation here (replace this with your actual calculation)\n",
    "            energy = self.__calculate_potential_energy(atoms)\n",
    "\n",
    "        if 'forces' in properties:\n",
    "            # Perform forces calculation here (replace this with your actual calculation)\n",
    "            forces = self.__calculate_forces(atoms)\n",
    "\n",
    "        # Store the calculated values\n",
    "        self.results = {'energy': energy, 'forces': forces}\n",
    "\n",
    "    def get_potential_energy_variance(self):\n",
    "        return self.potential_energy_variance\n",
    "    \n",
    "    def get_potential_energy_standard_deviation(self):\n",
    "        return np.sqrt(self.potential_energy_variance)\n",
    "    \n",
    "    def get_forces_variances(self):\n",
    "        pass\n",
    "\n",
    "    def get_forces_standard_deviations(self):\n",
    "        pass\n",
    "\n",
    "    def __calculate_potential_energy(self, atoms):\n",
    "\n",
    "        calc_energies = []\n",
    "        for calc in self.calculators:\n",
    "            atoms_copy = atoms.copy()\n",
    "            atoms.calc = calc\n",
    "            calc_energies.append(atoms.get_potential_energy())\n",
    "        \n",
    "\n",
    "        \n",
    "        return 0\n",
    "    \n",
    "    def __calculate_forces(self, atoms):\n",
    "\n",
    "        calc_forces = []\n",
    "        for calc in self.calculators:\n",
    "            atoms_copy = atoms.copy()\n",
    "            atoms.calc = calc\n",
    "            calc_forces.append(atoms.get_forces())\n",
    "        \n",
    "        \n",
    "\n",
    "        return 0\n",
    "\n",
    "\n",
    "from ase import Atoms\n",
    "# from yourmodule import SimpleCalculator  # Make sure to replace 'yourmodule' with the actual module name\n",
    "\n",
    "atoms = Atoms('H2', positions=[(0, 0, 0), (0, 0, 1)])\n",
    "atoms.set_calculator(Ensemble_Calculator([1,2]))\n",
    "\n",
    "# Now you can access the energy and forces\n"
   ]
  },
  {
   "cell_type": "code",
   "execution_count": 7,
   "metadata": {},
   "outputs": [
    {
     "data": {
      "text/plain": [
       "True"
      ]
     },
     "execution_count": 7,
     "metadata": {},
     "output_type": "execute_result"
    }
   ],
   "source": [
    "from ase.calculators.emt import EMT\n",
    "from ase.calculators.calculator import Calculator\n",
    "\n",
    "isinstance(EMT(), Calculator)"
   ]
  }
 ],
 "metadata": {
  "kernelspec": {
   "display_name": "Python 3",
   "language": "python",
   "name": "python3"
  },
  "language_info": {
   "codemirror_mode": {
    "name": "ipython",
    "version": 3
   },
   "file_extension": ".py",
   "mimetype": "text/x-python",
   "name": "python",
   "nbconvert_exporter": "python",
   "pygments_lexer": "ipython3",
   "version": "3.11.7"
  }
 },
 "nbformat": 4,
 "nbformat_minor": 2
}
