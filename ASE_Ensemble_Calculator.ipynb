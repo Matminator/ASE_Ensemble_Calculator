{
 "cells": [
  {
   "cell_type": "code",
   "execution_count": 1,
   "metadata": {},
   "outputs": [
    {
     "name": "stderr",
     "output_type": "stream",
     "text": [
      "C:\\Users\\matnis\\AppData\\Local\\Temp\\ipykernel_6440\\15288057.py:21: UserWarning: 2 out of 2 elements of the provided calculators list are not ASE calculators. This may result in the failure of this calculator.\n",
      "  warnings.warn(\n"
     ]
    },
    {
     "ename": "PropertyNotImplementedError",
     "evalue": "stress property not implemented",
     "output_type": "error",
     "traceback": [
      "\u001b[1;31m---------------------------------------------------------------------------\u001b[0m",
      "\u001b[1;31mPropertyNotImplementedError\u001b[0m               Traceback (most recent call last)",
      "Cell \u001b[1;32mIn[1], line 69\u001b[0m\n\u001b[0;32m     65\u001b[0m atoms\u001b[38;5;241m.\u001b[39mset_calculator(SimpleCalculator([\u001b[38;5;241m1\u001b[39m,\u001b[38;5;241m2\u001b[39m]))\n\u001b[0;32m     67\u001b[0m \u001b[38;5;66;03m# Now you can access the energy and forces\u001b[39;00m\n\u001b[1;32m---> 69\u001b[0m \u001b[43matoms\u001b[49m\u001b[38;5;241;43m.\u001b[39;49m\u001b[43mget_stress\u001b[49m\u001b[43m(\u001b[49m\u001b[43m)\u001b[49m\n",
      "File \u001b[1;32m~\\AppData\\Local\\Packages\\PythonSoftwareFoundation.Python.3.11_qbz5n2kfra8p0\\LocalCache\\local-packages\\Python311\\site-packages\\ase\\atoms.py:820\u001b[0m, in \u001b[0;36mAtoms.get_stress\u001b[1;34m(self, voigt, apply_constraint, include_ideal_gas)\u001b[0m\n\u001b[0;32m    817\u001b[0m \u001b[38;5;28;01mif\u001b[39;00m \u001b[38;5;28mself\u001b[39m\u001b[38;5;241m.\u001b[39m_calc \u001b[38;5;129;01mis\u001b[39;00m \u001b[38;5;28;01mNone\u001b[39;00m:\n\u001b[0;32m    818\u001b[0m     \u001b[38;5;28;01mraise\u001b[39;00m \u001b[38;5;167;01mRuntimeError\u001b[39;00m(\u001b[38;5;124m'\u001b[39m\u001b[38;5;124mAtoms object has no calculator.\u001b[39m\u001b[38;5;124m'\u001b[39m)\n\u001b[1;32m--> 820\u001b[0m stress \u001b[38;5;241m=\u001b[39m \u001b[38;5;28;43mself\u001b[39;49m\u001b[38;5;241;43m.\u001b[39;49m\u001b[43m_calc\u001b[49m\u001b[38;5;241;43m.\u001b[39;49m\u001b[43mget_stress\u001b[49m\u001b[43m(\u001b[49m\u001b[38;5;28;43mself\u001b[39;49m\u001b[43m)\u001b[49m\n\u001b[0;32m    821\u001b[0m shape \u001b[38;5;241m=\u001b[39m stress\u001b[38;5;241m.\u001b[39mshape\n\u001b[0;32m    823\u001b[0m \u001b[38;5;28;01mif\u001b[39;00m shape \u001b[38;5;241m==\u001b[39m (\u001b[38;5;241m3\u001b[39m, \u001b[38;5;241m3\u001b[39m):\n\u001b[0;32m    824\u001b[0m     \u001b[38;5;66;03m# Convert to the Voigt form before possibly applying\u001b[39;00m\n\u001b[0;32m    825\u001b[0m     \u001b[38;5;66;03m# constraints and adding the dynamic part of the stress\u001b[39;00m\n\u001b[0;32m    826\u001b[0m     \u001b[38;5;66;03m# (the \"ideal gas contribution\").\u001b[39;00m\n",
      "File \u001b[1;32m~\\AppData\\Local\\Packages\\PythonSoftwareFoundation.Python.3.11_qbz5n2kfra8p0\\LocalCache\\local-packages\\Python311\\site-packages\\ase\\calculators\\abc.py:26\u001b[0m, in \u001b[0;36mGetPropertiesMixin.get_stress\u001b[1;34m(self, atoms)\u001b[0m\n\u001b[0;32m     25\u001b[0m \u001b[38;5;28;01mdef\u001b[39;00m \u001b[38;5;21mget_stress\u001b[39m(\u001b[38;5;28mself\u001b[39m, atoms\u001b[38;5;241m=\u001b[39m\u001b[38;5;28;01mNone\u001b[39;00m):\n\u001b[1;32m---> 26\u001b[0m     \u001b[38;5;28;01mreturn\u001b[39;00m \u001b[38;5;28;43mself\u001b[39;49m\u001b[38;5;241;43m.\u001b[39;49m\u001b[43mget_property\u001b[49m\u001b[43m(\u001b[49m\u001b[38;5;124;43m'\u001b[39;49m\u001b[38;5;124;43mstress\u001b[39;49m\u001b[38;5;124;43m'\u001b[39;49m\u001b[43m,\u001b[49m\u001b[43m \u001b[49m\u001b[43matoms\u001b[49m\u001b[43m)\u001b[49m\n",
      "File \u001b[1;32m~\\AppData\\Local\\Packages\\PythonSoftwareFoundation.Python.3.11_qbz5n2kfra8p0\\LocalCache\\local-packages\\Python311\\site-packages\\ase\\calculators\\calculator.py:724\u001b[0m, in \u001b[0;36mCalculator.get_property\u001b[1;34m(self, name, atoms, allow_calculation)\u001b[0m\n\u001b[0;32m    722\u001b[0m \u001b[38;5;28;01mdef\u001b[39;00m \u001b[38;5;21mget_property\u001b[39m(\u001b[38;5;28mself\u001b[39m, name, atoms\u001b[38;5;241m=\u001b[39m\u001b[38;5;28;01mNone\u001b[39;00m, allow_calculation\u001b[38;5;241m=\u001b[39m\u001b[38;5;28;01mTrue\u001b[39;00m):\n\u001b[0;32m    723\u001b[0m     \u001b[38;5;28;01mif\u001b[39;00m name \u001b[38;5;129;01mnot\u001b[39;00m \u001b[38;5;129;01min\u001b[39;00m \u001b[38;5;28mself\u001b[39m\u001b[38;5;241m.\u001b[39mimplemented_properties:\n\u001b[1;32m--> 724\u001b[0m         \u001b[38;5;28;01mraise\u001b[39;00m PropertyNotImplementedError(\u001b[38;5;124m'\u001b[39m\u001b[38;5;132;01m{}\u001b[39;00m\u001b[38;5;124m property not implemented\u001b[39m\u001b[38;5;124m'\u001b[39m\n\u001b[0;32m    725\u001b[0m                                           \u001b[38;5;241m.\u001b[39mformat(name))\n\u001b[0;32m    727\u001b[0m     \u001b[38;5;28;01mif\u001b[39;00m atoms \u001b[38;5;129;01mis\u001b[39;00m \u001b[38;5;28;01mNone\u001b[39;00m:\n\u001b[0;32m    728\u001b[0m         atoms \u001b[38;5;241m=\u001b[39m \u001b[38;5;28mself\u001b[39m\u001b[38;5;241m.\u001b[39matoms\n",
      "\u001b[1;31mPropertyNotImplementedError\u001b[0m: stress property not implemented"
     ]
    }
   ],
   "source": [
    "import numpy as np\n",
    "from ase.calculators.calculator import Calculator\n",
    "import warnings\n",
    "\n",
    "class  ASE_Ensemble_Calculator(Calculator):\n",
    "    implemented_properties = ['energy', 'forces']\n",
    "\n",
    "    def __init__(self, calculators: list):\n",
    "\n",
    "        num_models = len(calculators)\n",
    "\n",
    "        # Testing input:\n",
    "        if num_models == 0:\n",
    "            raise ValueError('Provided list of calculators is empty (length is 0)')\n",
    "        \n",
    "        # Testing type of list\n",
    "        nun_ASE_calcs = 0\n",
    "        for calc in calculators:\n",
    "            if type(calc) != Calculator:\n",
    "                nun_ASE_calcs += 1\n",
    "        if nun_ASE_calcs > 0:\n",
    "            warnings.warn(\n",
    "                f\"{nun_ASE_calcs} out of {len(calculators)} elements of the provided calculators-list \"\n",
    "                \"are not ASE calculators. This may result in the failure of this calculator.\",\n",
    "                UserWarning\n",
    "            )\n",
    "\n",
    "        self.calculators = calculators\n",
    "        self.potential_energy_variance = None\n",
    "        self.forces_variances = None\n",
    "        self.num_models = num_models\n",
    "\n",
    "    def calculate(self, atoms, properties, system_changes):\n",
    "        # Check which properties need to be calculated\n",
    "        energy = 0.0\n",
    "        forces = None\n",
    "\n",
    "        if 'energy' in properties:\n",
    "            # Perform energy calculation here (replace this with your actual calculation)\n",
    "            energy = self.__calculate_potential_energy(atoms)\n",
    "\n",
    "        if 'forces' in properties:\n",
    "            # Perform forces calculation here (replace this with your actual calculation)\n",
    "            forces = self.__calculate_forces(atoms)\n",
    "\n",
    "        # Store the calculated values\n",
    "        self.results = {'energy': energy, 'forces': forces}\n",
    "\n",
    "    def get_potential_energy_variance(self):\n",
    "        return self.potential_energy_variance\n",
    "    \n",
    "    def get_potential_energy_standard_deviation(self):\n",
    "        return np.sqrt(self.potential_energy_variance)\n",
    "    \n",
    "    def get_forces_variances(self):\n",
    "        pass\n",
    "\n",
    "    def get_forces_standard_deviations(self):\n",
    "        pass\n",
    "\n",
    "    def __calculate_potential_energy(self, atoms):\n",
    "\n",
    "        calc_energies = []\n",
    "        for calc in self.calculators:\n",
    "            atoms_copy = atoms.copy()\n",
    "            atoms.calc = calc\n",
    "            calc_energies.append(atoms.get_potential_energy())\n",
    "        \n",
    "\n",
    "        \n",
    "        return 0\n",
    "    \n",
    "    def __calculate_forces(self, atoms):\n",
    "\n",
    "        calc_forces = []\n",
    "        for calc in self.calculators:\n",
    "            atoms_copy = atoms.copy()\n",
    "            atoms.calc = calc\n",
    "            calc_forces.append(atoms.get_forces())\n",
    "        \n",
    "        \n",
    "\n",
    "        return 0\n",
    "\n",
    "\n",
    "from ase import Atoms\n",
    "# from yourmodule import SimpleCalculator  # Make sure to replace 'yourmodule' with the actual module name\n",
    "\n",
    "atoms = Atoms('H2', positions=[(0, 0, 0), (0, 0, 1)])\n",
    "atoms.set_calculator(SimpleCalculator([1,2]))\n",
    "\n",
    "# Now you can access the energy and forces\n",
    "\n",
    "atoms.get_stress()"
   ]
  },
  {
   "cell_type": "code",
   "execution_count": 3,
   "metadata": {},
   "outputs": [
    {
     "ename": "SyntaxError",
     "evalue": "invalid decimal literal (2971829666.py, line 1)",
     "output_type": "error",
     "traceback": [
      "\u001b[1;36m  Cell \u001b[1;32mIn[3], line 1\u001b[1;36m\u001b[0m\n\u001b[1;33m    0.shape()\u001b[0m\n\u001b[1;37m     ^\u001b[0m\n\u001b[1;31mSyntaxError\u001b[0m\u001b[1;31m:\u001b[0m invalid decimal literal\n"
     ]
    }
   ],
   "source": []
  }
 ],
 "metadata": {
  "kernelspec": {
   "display_name": "Python 3",
   "language": "python",
   "name": "python3"
  },
  "language_info": {
   "codemirror_mode": {
    "name": "ipython",
    "version": 3
   },
   "file_extension": ".py",
   "mimetype": "text/x-python",
   "name": "python",
   "nbconvert_exporter": "python",
   "pygments_lexer": "ipython3",
   "version": "3.11.7"
  }
 },
 "nbformat": 4,
 "nbformat_minor": 2
}
