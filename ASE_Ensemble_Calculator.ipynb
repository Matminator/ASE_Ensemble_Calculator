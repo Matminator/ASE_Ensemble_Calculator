{
 "cells": [
  {
   "cell_type": "code",
   "execution_count": 1,
   "metadata": {},
   "outputs": [],
   "source": [
    "import numpy as np\n",
    "from ase.calculators.calculator import Calculator\n",
    "import warnings\n",
    "\n",
    "class Ensemble_Calculator(Calculator):\n",
    "    implemented_properties = ['energy', 'forces']\n",
    "\n",
    "    def __init__(self, calculators: list, *args, **kwargs):\n",
    "        super().__init__(*args, **kwargs)\n",
    "\n",
    "        num_models = len(calculators)\n",
    "\n",
    "        # Testing input:\n",
    "        if num_models == 0:\n",
    "            raise ValueError('Provided list of calculators is empty (length is 0)')\n",
    "        \n",
    "        # Testing type of list\n",
    "        nun_ASE_calcs = 0\n",
    "        for calc in calculators:\n",
    "            if not isinstance(calc, Calculator):\n",
    "                nun_ASE_calcs += 1\n",
    "        if nun_ASE_calcs > 0:\n",
    "            warnings.warn(\n",
    "                f\"{nun_ASE_calcs} out of {len(calculators)} elements of the provided calculators-list \"\n",
    "                \"are not ASE calculators. This may result in the failure of this calculator.\",\n",
    "                UserWarning\n",
    "            )\n",
    "\n",
    "        self.calculators = calculators\n",
    "        self.potential_energy_variance = None\n",
    "        self.forces_variances = None\n",
    "        self.num_models = num_models\n",
    "\n",
    "    def calculate(self, atoms, properties, system_changes):\n",
    "        super().calculate(atoms, properties, system_changes)\n",
    "\n",
    "        # Check which properties need to be calculated\n",
    "        energy = 0.0\n",
    "        forces = None\n",
    "\n",
    "        if 'energy' in properties:\n",
    "            # Perform energy calculation here (replace this with your actual calculation)\n",
    "            energy = self.__calculate_potential_energy(self.atoms)\n",
    "\n",
    "        if 'forces' in properties:\n",
    "            # Perform forces calculation here (replace this with your actual calculation)\n",
    "            forces = self.__calculate_forces(self.atoms)\n",
    "\n",
    "        # Store the calculated values\n",
    "        self.results = {'energy': energy, 'forces': forces}\n",
    "\n",
    "    def get_potential_energy_variance(self):\n",
    "        return self.potential_energy_variance\n",
    "    \n",
    "    def get_potential_energy_standard_deviation(self):\n",
    "        return np.sqrt(self.potential_energy_variance)\n",
    "    \n",
    "    def get_forces_variances(self):\n",
    "        pass\n",
    "\n",
    "    def get_forces_standard_deviations(self):\n",
    "        pass\n",
    "\n",
    "    def __calculate_potential_energy(self, atoms):\n",
    "\n",
    "        calc_energies = []\n",
    "        for calc in self.calculators:\n",
    "            atoms_copy = atoms.copy()\n",
    "            atoms.calc = calc\n",
    "            calc_energies.append(atoms.get_potential_energy())\n",
    "        \n",
    "\n",
    "        \n",
    "        return 0\n",
    "    \n",
    "    def __calculate_forces(self, atoms):\n",
    "\n",
    "        calc_forces = []\n",
    "        for calc in self.calculators:\n",
    "            atoms_copy = atoms.copy()\n",
    "            atoms.calc = calc\n",
    "            calc_forces.append(atoms.get_forces())\n",
    "        \n",
    "        \n",
    "\n",
    "        return 0\n",
    "\n",
    "\n",
    "\n",
    "# from yourmodule import SimpleCalculator  # Make sure to replace 'yourmodule' with the actual module name\n",
    "\n",
    "\n",
    "\n",
    "# Now you can access the energy and forces\n"
   ]
  },
  {
   "cell_type": "code",
   "execution_count": 2,
   "metadata": {},
   "outputs": [
    {
     "data": {
      "text/plain": [
       "0"
      ]
     },
     "execution_count": 2,
     "metadata": {},
     "output_type": "execute_result"
    }
   ],
   "source": [
    "from ase.calculators.emt import EMT\n",
    "from ase import Atoms\n",
    "\n",
    "atoms = Atoms('H2', positions=[(0, 0, 0), (0, 0, 1)])\n",
    "\n",
    "calcs = [EMT(), EMT(), EMT()]\n",
    "\n",
    "ensamble = Ensemble_Calculator(calcs)\n",
    "\n",
    "atoms.calc = ensamble\n",
    "\n",
    "atoms.get_forces()"
   ]
  },
  {
   "cell_type": "code",
   "execution_count": 3,
   "metadata": {},
   "outputs": [
    {
     "data": {
      "text/plain": [
       "3"
      ]
     },
     "execution_count": 3,
     "metadata": {},
     "output_type": "execute_result"
    }
   ],
   "source": [
    "\n",
    "import sys\n",
    "from ase.calculators.calculator import Calculator\n",
    "from ase.calculators.emt import EMT\n",
    "\n",
    "from ase_ensemble_calculator.ensemble_calculator import Ensemble_Calculator as ES\n",
    "\n",
    "\n",
    "\n",
    "calcs = [EMT(), EMT(), EMT()] # 3 EMT calculators which are ASE calculator objects\n",
    "ensamble = ES(calcs) # Setup Ensemble_Calculator, which sould work for ASE calculators\n",
    "\n",
    "ensamble.num_calculators"
   ]
  },
  {
   "cell_type": "code",
   "execution_count": 4,
   "metadata": {},
   "outputs": [
    {
     "name": "stdout",
     "output_type": "stream",
     "text": [
      "[array([[ 0.        ,  0.        ,  8.03580661],\n",
      "       [ 0.        ,  0.        , -8.03580661]]), array([[ 1.        ,  1.        ,  9.03580661],\n",
      "       [ 1.        ,  1.        , -7.03580661]]), array([[ 2.        ,  2.        , 10.03580661],\n",
      "       [ 2.        ,  2.        , -6.03580661]])]\n",
      "3\n",
      "[[ 1.          1.          9.03580661]\n",
      " [ 1.          1.         -7.03580661]] \n",
      "----\n",
      "[[[1. 1. 1.]\n",
      "  [1. 1. 1.]]\n",
      "\n",
      " [[0. 0. 0.]\n",
      "  [0. 0. 0.]]\n",
      "\n",
      " [[1. 1. 1.]\n",
      "  [1. 1. 1.]]] \n",
      "----\n",
      "[[2. 2. 2.]\n",
      " [2. 2. 2.]] \n",
      "----\n",
      "[2. 2.] \n",
      "----\n",
      "[1.41421356 1.41421356] \n",
      "----\n"
     ]
    }
   ],
   "source": [
    "atoms = Atoms('H2', positions=[(0, 0, 0), (0, 0, 1)])\n",
    "atoms.calc = EMT()\n",
    "\n",
    "forces = []\n",
    "for i in range(3):\n",
    "    forces.append(atoms.get_forces() + i)\n",
    "\n",
    "print(forces)\n",
    "\n",
    "\n",
    "x = np.vstack((atoms.get_forces(), atoms.get_forces() + 1))\n",
    "\n",
    "M = len(forces)\n",
    "print(M)\n",
    "\n",
    "mean_force = np.mean(forces, axis = 0)\n",
    "\n",
    "print(mean_force,\n",
    "       '\\n----')\n",
    "\n",
    "x = (forces - mean_force)**2\n",
    "print(x,'\\n----')\n",
    "\n",
    "x = np.sum(x, axis = 0)\n",
    "print(x,'\\n----')\n",
    "\n",
    "x = np.mean(x, axis = 1)\n",
    "print(x,'\\n----')\n",
    "\n",
    "x = np.sqrt(x)\n",
    "print(x,'\\n----')\n"
   ]
  },
  {
   "cell_type": "code",
   "execution_count": 5,
   "metadata": {},
   "outputs": [
    {
     "name": "stdout",
     "output_type": "stream",
     "text": [
      "2\n",
      "[[[9. 9. 9.]\n",
      "  [0. 0. 0.]]\n",
      "\n",
      " [[9. 9. 9.]\n",
      "  [0. 0. 0.]]] \n",
      "----\n",
      "[[18. 18. 18.]\n",
      " [ 0.  0.  0.]] \n",
      "----\n",
      "[9. 0.] \n",
      "----\n",
      "[3. 0.] \n",
      "----\n"
     ]
    }
   ],
   "source": [
    "\n",
    "forces = [\n",
    "    np.array([[-1,-1,-1],[-1,-1,-1]]),\n",
    "    np.array([[0,0,0],[-1,-1,-1]]),\n",
    "    np.array([[1,1,1],[-1,-1,-1]])\n",
    "]\n",
    "\n",
    "forces = [\n",
    "    np.array([[-3,-3,-3],[-1,-1,-1]]),\n",
    "    np.array([[3,3,3],[-1,-1,-1]])\n",
    "]\n",
    "\n",
    "\n",
    "print(len(forces))\n",
    "\n",
    "mean_force = np.mean(forces, axis = 0)\n",
    "\n",
    "x = (forces - mean_force)**2\n",
    "print(x,'\\n----')\n",
    "\n",
    "x = np.sum(x, axis = 0)\n",
    "print(x,'\\n----')\n",
    "\n",
    "x = np.sum(x, axis = 1) / (len(forces)*3)\n",
    "print(x,'\\n----')\n",
    "\n",
    "x = np.sqrt(x)\n",
    "print(x,'\\n----')"
   ]
  },
  {
   "cell_type": "markdown",
   "metadata": {},
   "source": []
  },
  {
   "cell_type": "code",
   "execution_count": 6,
   "metadata": {},
   "outputs": [
    {
     "name": "stdout",
     "output_type": "stream",
     "text": [
      "11.599720091894008\n",
      "11.59972009189401\n",
      "None\n",
      "[[-15.41977363 -19.10008389 -12.71992754]\n",
      " [ -0.09541309 -18.26153287  18.45086389]\n",
      " [  0.99336983  15.6206391   -6.42445188]\n",
      " [ -1.58643505  19.9228294    4.6619759 ]\n",
      " [ 16.10825193   1.81814826  -3.96846036]]\n"
     ]
    },
    {
     "ename": "TypeError",
     "evalue": "ufunc 'isfinite' not supported for the input types, and the inputs could not be safely coerced to any supported types according to the casting rule ''safe''",
     "output_type": "error",
     "traceback": [
      "\u001b[0;31m---------------------------------------------------------------------------\u001b[0m",
      "\u001b[0;31mTypeError\u001b[0m                                 Traceback (most recent call last)",
      "Cell \u001b[0;32mIn[6], line 30\u001b[0m\n\u001b[1;32m     26\u001b[0m     \u001b[38;5;28;01massert\u001b[39;00m np\u001b[38;5;241m.\u001b[39mallclose(ens_energy, emt_energy)\n\u001b[1;32m     27\u001b[0m     \u001b[38;5;28;01massert\u001b[39;00m np\u001b[38;5;241m.\u001b[39mallclose(ens_forces, emt_forces)\n\u001b[0;32m---> 30\u001b[0m \u001b[43mtest_same_EMT_calculations\u001b[49m\u001b[43m(\u001b[49m\u001b[43m)\u001b[49m\n",
      "Cell \u001b[0;32mIn[6], line 27\u001b[0m, in \u001b[0;36mtest_same_EMT_calculations\u001b[0;34m()\u001b[0m\n\u001b[1;32m     24\u001b[0m \u001b[38;5;28mprint\u001b[39m(emt_forces)\n\u001b[1;32m     26\u001b[0m \u001b[38;5;28;01massert\u001b[39;00m np\u001b[38;5;241m.\u001b[39mallclose(ens_energy, emt_energy)\n\u001b[0;32m---> 27\u001b[0m \u001b[38;5;28;01massert\u001b[39;00m \u001b[43mnp\u001b[49m\u001b[38;5;241;43m.\u001b[39;49m\u001b[43mallclose\u001b[49m\u001b[43m(\u001b[49m\u001b[43mens_forces\u001b[49m\u001b[43m,\u001b[49m\u001b[43m \u001b[49m\u001b[43memt_forces\u001b[49m\u001b[43m)\u001b[49m\n",
      "File \u001b[0;32m~/anaconda3/envs/ASE_Ensemble_Calculator/lib/python3.11/site-packages/numpy/core/numeric.py:2241\u001b[0m, in \u001b[0;36mallclose\u001b[0;34m(a, b, rtol, atol, equal_nan)\u001b[0m\n\u001b[1;32m   2170\u001b[0m \u001b[38;5;129m@array_function_dispatch\u001b[39m(_allclose_dispatcher)\n\u001b[1;32m   2171\u001b[0m \u001b[38;5;28;01mdef\u001b[39;00m \u001b[38;5;21mallclose\u001b[39m(a, b, rtol\u001b[38;5;241m=\u001b[39m\u001b[38;5;241m1.e-5\u001b[39m, atol\u001b[38;5;241m=\u001b[39m\u001b[38;5;241m1.e-8\u001b[39m, equal_nan\u001b[38;5;241m=\u001b[39m\u001b[38;5;28;01mFalse\u001b[39;00m):\n\u001b[1;32m   2172\u001b[0m \u001b[38;5;250m    \u001b[39m\u001b[38;5;124;03m\"\"\"\u001b[39;00m\n\u001b[1;32m   2173\u001b[0m \u001b[38;5;124;03m    Returns True if two arrays are element-wise equal within a tolerance.\u001b[39;00m\n\u001b[1;32m   2174\u001b[0m \n\u001b[0;32m   (...)\u001b[0m\n\u001b[1;32m   2239\u001b[0m \n\u001b[1;32m   2240\u001b[0m \u001b[38;5;124;03m    \"\"\"\u001b[39;00m\n\u001b[0;32m-> 2241\u001b[0m     res \u001b[38;5;241m=\u001b[39m \u001b[38;5;28mall\u001b[39m(\u001b[43misclose\u001b[49m\u001b[43m(\u001b[49m\u001b[43ma\u001b[49m\u001b[43m,\u001b[49m\u001b[43m \u001b[49m\u001b[43mb\u001b[49m\u001b[43m,\u001b[49m\u001b[43m \u001b[49m\u001b[43mrtol\u001b[49m\u001b[38;5;241;43m=\u001b[39;49m\u001b[43mrtol\u001b[49m\u001b[43m,\u001b[49m\u001b[43m \u001b[49m\u001b[43matol\u001b[49m\u001b[38;5;241;43m=\u001b[39;49m\u001b[43matol\u001b[49m\u001b[43m,\u001b[49m\u001b[43m \u001b[49m\u001b[43mequal_nan\u001b[49m\u001b[38;5;241;43m=\u001b[39;49m\u001b[43mequal_nan\u001b[49m\u001b[43m)\u001b[49m)\n\u001b[1;32m   2242\u001b[0m     \u001b[38;5;28;01mreturn\u001b[39;00m \u001b[38;5;28mbool\u001b[39m(res)\n",
      "File \u001b[0;32m~/anaconda3/envs/ASE_Ensemble_Calculator/lib/python3.11/site-packages/numpy/core/numeric.py:2348\u001b[0m, in \u001b[0;36misclose\u001b[0;34m(a, b, rtol, atol, equal_nan)\u001b[0m\n\u001b[1;32m   2345\u001b[0m     dt \u001b[38;5;241m=\u001b[39m multiarray\u001b[38;5;241m.\u001b[39mresult_type(y, \u001b[38;5;241m1.\u001b[39m)\n\u001b[1;32m   2346\u001b[0m     y \u001b[38;5;241m=\u001b[39m asanyarray(y, dtype\u001b[38;5;241m=\u001b[39mdt)\n\u001b[0;32m-> 2348\u001b[0m xfin \u001b[38;5;241m=\u001b[39m \u001b[43misfinite\u001b[49m\u001b[43m(\u001b[49m\u001b[43mx\u001b[49m\u001b[43m)\u001b[49m\n\u001b[1;32m   2349\u001b[0m yfin \u001b[38;5;241m=\u001b[39m isfinite(y)\n\u001b[1;32m   2350\u001b[0m \u001b[38;5;28;01mif\u001b[39;00m \u001b[38;5;28mall\u001b[39m(xfin) \u001b[38;5;129;01mand\u001b[39;00m \u001b[38;5;28mall\u001b[39m(yfin):\n",
      "\u001b[0;31mTypeError\u001b[0m: ufunc 'isfinite' not supported for the input types, and the inputs could not be safely coerced to any supported types according to the casting rule ''safe''"
     ]
    }
   ],
   "source": [
    "def test_same_EMT_calculations():\n",
    "\n",
    "    pos = np.array([[0, 0, 0], [0, 0, 1], [0, 1, 0], [0, 1, 1], [1, 0, 0]], dtype=np.float64)\n",
    "    pos += np.random.rand(5,3) * 0.2\n",
    "    atoms = Atoms('H2C3', positions = pos)\n",
    "\n",
    "    calcs = [EMT(), EMT(), EMT()] # 3 EMT calculators which are ASE calculator objects\n",
    "    ensamble = ES(calcs) # Setup Ensemble_Calculator, which sould work for ASE calculators\n",
    "\n",
    "    atoms.calc = ensamble\n",
    "\n",
    "    ens_energy = atoms.get_potential_energy()\n",
    "    ens_forces = atoms.get_forces()\n",
    "    \n",
    "    atoms.calc = EMT()\n",
    "\n",
    "    emt_energy = atoms.get_potential_energy()\n",
    "    emt_forces = atoms.get_forces()\n",
    "\n",
    "    print(ens_energy)\n",
    "    print(emt_energy)\n",
    "\n",
    "    print(ens_forces)\n",
    "    print(emt_forces)\n",
    "\n",
    "    assert np.allclose(ens_energy, emt_energy)\n",
    "    assert np.allclose(ens_forces, emt_forces)\n",
    "    \n",
    "\n",
    "test_same_EMT_calculations()"
   ]
  }
 ],
 "metadata": {
  "kernelspec": {
   "display_name": "Python 3",
   "language": "python",
   "name": "python3"
  },
  "language_info": {
   "codemirror_mode": {
    "name": "ipython",
    "version": 3
   },
   "file_extension": ".py",
   "mimetype": "text/x-python",
   "name": "python",
   "nbconvert_exporter": "python",
   "pygments_lexer": "ipython3",
   "version": "3.11.7"
  }
 },
 "nbformat": 4,
 "nbformat_minor": 2
}
